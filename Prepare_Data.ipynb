{
 "cells": [
  {
   "cell_type": "code",
   "execution_count": 1,
   "metadata": {},
   "outputs": [],
   "source": [
    "#Load BERT base\n",
    "from transformers import BertTokenizer, BertModel\n",
    "import torch\n",
    "import os\n",
    "import pickle\n",
    "import numpy as np"
   ]
  },
  {
   "cell_type": "code",
   "execution_count": 2,
   "metadata": {},
   "outputs": [],
   "source": [
    "from tqdm.auto import tqdm, trange"
   ]
  },
  {
   "cell_type": "code",
   "execution_count": 3,
   "metadata": {},
   "outputs": [],
   "source": [
    "UD_ENG_DIR=\"./UD2.6/ud-treebanks-v2.6/UD_English-EWT\"\n",
    "UD_ENG_Training_File = \"en_ewt-ud-train.conllu\"\n",
    "OUT_DIR=\"./data/ud\""
   ]
  },
  {
   "cell_type": "markdown",
   "metadata": {},
   "source": [
    "### LOAD BERT Model"
   ]
  },
  {
   "cell_type": "code",
   "execution_count": 4,
   "metadata": {},
   "outputs": [],
   "source": [
    "tokenizer = BertTokenizer.from_pretrained('bert-base-cased')\n",
    "model = BertModel.from_pretrained('bert-base-cased')"
   ]
  },
  {
   "cell_type": "code",
   "execution_count": 5,
   "metadata": {},
   "outputs": [],
   "source": [
    "inputs = tokenizer(\"Hello, my dog is cute\", return_tensors=\"pt\")\n",
    "outputs = model(**inputs, output_attentions=True, output_hidden_states=True)\n",
    "\n",
    "last_hidden_states = outputs[:1]"
   ]
  },
  {
   "cell_type": "code",
   "execution_count": 6,
   "metadata": {},
   "outputs": [
    {
     "name": "stdout",
     "output_type": "stream",
     "text": [
      "Last Hidden State: 1 , Shape: torch.Size([1, 8, 768])\n"
     ]
    }
   ],
   "source": [
    "#last_hidden_state (torch.FloatTensor of shape (batch_size, sequence_length, hidden_size)):\n",
    "print(\"Last Hidden State:\", len(last_hidden_states), \", Shape:\", last_hidden_states[0].shape)"
   ]
  },
  {
   "cell_type": "code",
   "execution_count": 7,
   "metadata": {},
   "outputs": [
    {
     "name": "stdout",
     "output_type": "stream",
     "text": [
      "CLS Token output: torch.Size([1, 768])\n"
     ]
    }
   ],
   "source": [
    "#pooler_output (batch_size, hidden_size) for NSP objective.\n",
    "print(\"CLS Token output:\", outputs[1].shape)"
   ]
  },
  {
   "cell_type": "code",
   "execution_count": 8,
   "metadata": {},
   "outputs": [
    {
     "name": "stdout",
     "output_type": "stream",
     "text": [
      "Hidden states at each layer: 13 x torch.Size([1, 8, 768])\n"
     ]
    }
   ],
   "source": [
    "#hidden_states (batch_size, sequence_length, hidden_size).\n",
    "print(\"Hidden states at each layer:\", len(outputs[2]), \"x\", outputs[2][0].shape)"
   ]
  },
  {
   "cell_type": "code",
   "execution_count": 9,
   "metadata": {},
   "outputs": [
    {
     "name": "stdout",
     "output_type": "stream",
     "text": [
      "Attentions: 12 x torch.Size([1, 12, 8, 8])\n"
     ]
    }
   ],
   "source": [
    "#attentions (batch_size, num_heads, sequence_length, sequence_length)\n",
    "print(\"Attentions:\", len(outputs[3]), \"x\", outputs[3][0].shape)"
   ]
  },
  {
   "cell_type": "code",
   "execution_count": null,
   "metadata": {},
   "outputs": [],
   "source": []
  },
  {
   "cell_type": "markdown",
   "metadata": {},
   "source": [
    "### Feed UD Tree Bank Example"
   ]
  },
  {
   "cell_type": "code",
   "execution_count": null,
   "metadata": {},
   "outputs": [
    {
     "data": {
      "application/vnd.jupyter.widget-view+json": {
       "model_id": "8afa7c2464a84bd082534223e51be65d",
       "version_major": 2,
       "version_minor": 0
      },
      "text/plain": [
       "HBox(children=(FloatProgress(value=1.0, bar_style='info', max=1.0), HTML(value='')))"
      ]
     },
     "metadata": {},
     "output_type": "display_data"
    }
   ],
   "source": [
    "model = model.cuda()\n",
    "model.eval()\n",
    "words, heads, rels = [], [], []\n",
    "dev_data = []\n",
    "with open(os.path.join(UD_ENG_DIR, UD_ENG_Training_File), 'r') as fp:\n",
    "    for cnt, line in enumerate(tqdm(fp)):\n",
    "        #if cnt > 100000:\n",
    "        #    break\n",
    "        if line.startswith(\"# text\"):\n",
    "            if len(words) > 0:\n",
    "                record = {}\n",
    "                record[\"words\"]=words\n",
    "                try:\n",
    "                    record[\"heads\"]=np.array(list(map(int, heads)))\n",
    "                except Exception as e:\n",
    "                    words, heads, rels, attns = [], [], [], []\n",
    "                    record = {}\n",
    "                    continue\n",
    "                record[\"relns\"]=rels\n",
    "                inputs = tokenizer(\" \".join(record[\"words\"]), return_tensors=\"pt\")\n",
    "                for k, v in inputs.items():\n",
    "                    if isinstance(v, torch.Tensor):\n",
    "                        inputs[k] = v.cuda()\n",
    "                outputs = model(**inputs, output_attentions=True, output_hidden_states=True)\n",
    "                attns = torch.stack(outputs[3]).squeeze(1)\n",
    "                record[\"attns\"]=attns.detach().cpu()\n",
    "                if record[\"attns\"].shape[-1] == (len(words) + 2):\n",
    "                    dev_data.append(record)\n",
    "                    #if(len(dev_data) >= 1000):\n",
    "                    #    break\n",
    "            words, heads, rels, attns = [], [], [], []\n",
    "        record = line.split(\"\\t\")\n",
    "        if len(record) > 8:\n",
    "            words.append(record[1])\n",
    "            heads.append(record[6])\n",
    "            rels.append(record[7])\n"
   ]
  },
  {
   "cell_type": "code",
   "execution_count": 11,
   "metadata": {},
   "outputs": [],
   "source": [
    "torch.cuda.empty_cache()"
   ]
  },
  {
   "cell_type": "code",
   "execution_count": 12,
   "metadata": {},
   "outputs": [],
   "source": [
    "pickle.dump(dev_data, open(os.path.join(OUT_DIR, \"ud_attention_data.pkl\"), 'wb'))"
   ]
  },
  {
   "cell_type": "code",
   "execution_count": null,
   "metadata": {},
   "outputs": [],
   "source": []
  }
 ],
 "metadata": {
  "kernelspec": {
   "display_name": "medhas01",
   "language": "python",
   "name": "medhas01"
  },
  "language_info": {
   "codemirror_mode": {
    "name": "ipython",
    "version": 3
   },
   "file_extension": ".py",
   "mimetype": "text/x-python",
   "name": "python",
   "nbconvert_exporter": "python",
   "pygments_lexer": "ipython3",
   "version": "3.6.10"
  }
 },
 "nbformat": 4,
 "nbformat_minor": 4
}
