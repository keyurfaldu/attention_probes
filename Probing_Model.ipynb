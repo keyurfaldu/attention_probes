{
 "cells": [
  {
   "cell_type": "code",
   "execution_count": 13,
   "metadata": {},
   "outputs": [],
   "source": [
    "from torch import nn\n",
    "import torch\n",
    "import numpy as np"
   ]
  },
  {
   "cell_type": "code",
   "execution_count": 14,
   "metadata": {},
   "outputs": [],
   "source": [
    "vocab_length = 10\n",
    "vocab_dim = 3\n",
    "heads = 2\n",
    "embedding = nn.Embedding(vocab_length, vocab_dim)\n",
    "weight_layer = nn.Linear(vocab_dim+vocab_dim, heads)\n",
    "m = nn.LogSoftmax(dim=1)\n",
    "loss = nn.NLLLoss()"
   ]
  },
  {
   "cell_type": "code",
   "execution_count": 15,
   "metadata": {},
   "outputs": [],
   "source": [
    "input = torch.LongTensor([[0,1,5,6]])\n",
    "labels = torch.LongTensor([2,3,1,0]) #tokens heads\n",
    "n_words = input.shape[-1]\n",
    "tokens = embedding(input)\n",
    "tokens_pairs = torch.cat((tokens.repeat(1,n_words,1).squeeze().view(n_words*n_words, vocab_dim), \n",
    "                          tokens.repeat(1,1,n_words).squeeze().view(n_words*n_words, vocab_dim)), dim=-1).view(n_words,n_words,vocab_dim+vocab_dim).transpose(1,0)"
   ]
  },
  {
   "cell_type": "code",
   "execution_count": 16,
   "metadata": {},
   "outputs": [],
   "source": [
    "attn = torch.rand(heads, n_words, n_words)\n",
    "attn = attn.transpose(2,1).transpose(0,2)\n",
    "tokens_h = weight_layer(tokens_pairs)\n",
    "attn_tokens = attn * tokens_h\n",
    "attn_sum = attn_tokens.sum(-1)\n",
    "output = loss(m(attn_sum), labels)\n",
    "output.backward()\n",
    "\n",
    "#Predictions\n",
    "preds = np.argmax(attn_sum.detach(), axis=1)\n",
    "preds1 = np.argmax(m(attn_sum).detach(), axis=1)"
   ]
  },
  {
   "cell_type": "code",
   "execution_count": 17,
   "metadata": {},
   "outputs": [
    {
     "name": "stdout",
     "output_type": "stream",
     "text": [
      "tensor([0, 3, 1, 3]) tensor([0, 3, 1, 3])\n"
     ]
    }
   ],
   "source": [
    "print(preds, preds1)"
   ]
  },
  {
   "cell_type": "code",
   "execution_count": null,
   "metadata": {},
   "outputs": [],
   "source": []
  },
  {
   "cell_type": "code",
   "execution_count": null,
   "metadata": {},
   "outputs": [],
   "source": []
  }
 ],
 "metadata": {
  "kernelspec": {
   "display_name": "medhas01",
   "language": "python",
   "name": "medhas01"
  },
  "language_info": {
   "codemirror_mode": {
    "name": "ipython",
    "version": 3
   },
   "file_extension": ".py",
   "mimetype": "text/x-python",
   "name": "python",
   "nbconvert_exporter": "python",
   "pygments_lexer": "ipython3",
   "version": "3.6.10"
  }
 },
 "nbformat": 4,
 "nbformat_minor": 4
}
